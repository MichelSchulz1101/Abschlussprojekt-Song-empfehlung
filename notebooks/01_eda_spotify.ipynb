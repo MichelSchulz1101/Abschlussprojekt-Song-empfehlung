{
 "cells": [
  {
   "cell_type": "markdown",
   "id": "d46edf27",
   "metadata": {},
   "source": [
    "# EDA für mix_master.csv"
   ]
  },
  {
   "cell_type": "code",
   "execution_count": 2,
   "id": "9ab6b420",
   "metadata": {},
   "outputs": [],
   "source": [
    "import pandas as pd\n",
    "import matplotlib.pyplot as plt\n",
    "import seaborn as sns"
   ]
  },
  {
   "cell_type": "code",
   "execution_count": 13,
   "id": "7d9d7067",
   "metadata": {},
   "outputs": [
    {
     "data": {
      "application/vnd.microsoft.datawrangler.viewer.v0+json": {
       "columns": [
        {
         "name": "index",
         "rawType": "int64",
         "type": "integer"
        },
        {
         "name": "track_id",
         "rawType": "object",
         "type": "string"
        },
        {
         "name": "track_name",
         "rawType": "object",
         "type": "string"
        },
        {
         "name": "artist_name",
         "rawType": "object",
         "type": "string"
        },
        {
         "name": "album_name",
         "rawType": "object",
         "type": "string"
        },
        {
         "name": "release_date",
         "rawType": "object",
         "type": "string"
        },
        {
         "name": "popularity",
         "rawType": "int64",
         "type": "integer"
        },
        {
         "name": "duration_ms",
         "rawType": "int64",
         "type": "integer"
        },
        {
         "name": "explicit",
         "rawType": "bool",
         "type": "boolean"
        },
        {
         "name": "artist_genres",
         "rawType": "object",
         "type": "unknown"
        },
        {
         "name": "release_year",
         "rawType": "int64",
         "type": "integer"
        }
       ],
       "ref": "641f8990-d436-4fd5-a668-c16df53e86e2",
       "rows": [
        [
         "0",
         "4AEpB1NhDW9Hgk9hZKcG5R",
         "Bistro Europa",
         "Global Genius",
         "This World Over, Vol. 2",
         "2022-04-01",
         "29",
         "210913",
         "False",
         null,
         "2022"
        ],
        [
         "1",
         "44UVE3OdLbPEap9VtrAZEU",
         "Obrigada Meu Amor",
         "Global Genius",
         "This World Over, Vol. 1",
         "2022-04-01",
         "25",
         "138987",
         "False",
         null,
         "2022"
        ],
        [
         "2",
         "1EeH3JZvWaEIOfLGx18EWc",
         "Moon Over Milan",
         "Global Genius",
         "This World Over, Vol. 2",
         "2022-04-01",
         "23",
         "153333",
         "False",
         null,
         "2022"
        ],
        [
         "3",
         "4Z7Y8wXZW5m1MskicNK6i8",
         "Jazzy Wanderer",
         "Global Genius",
         "This World Over, Vol. 1",
         "2022-04-01",
         "22",
         "227859",
         "False",
         null,
         "2022"
        ],
        [
         "4",
         "4gL1eTz74RnX7wPK5wB7tY",
         "Say Everything",
         "Global Genius",
         "New Folk",
         "2019-08-15",
         "20",
         "230995",
         "False",
         null,
         "2019"
        ],
        [
         "5",
         "1Inq2oLchJeIIo16x4cBZk",
         "Caravan Concertina",
         "Global Genius",
         "This World Over, Vol. 3",
         "2022-04-01",
         "18",
         "198654",
         "False",
         null,
         "2022"
        ],
        [
         "6",
         "4YFwhuNrZf61DAd3bJpCCx",
         "Every Kind of Light",
         "Global Genius",
         "New Folk",
         "2019-08-15",
         "16",
         "189759",
         "False",
         null,
         "2019"
        ],
        [
         "7",
         "7GeyIo9MxOQSEKlAWjAFfg",
         "I Must Be Dreaming",
         "Global Genius",
         "New Folk",
         "2019-08-15",
         "15",
         "185047",
         "False",
         null,
         "2019"
        ],
        [
         "8",
         "3kTVj0MIQ6TCtlQ6X4yDkj",
         "It’s A Kid’s World",
         "Global Genius",
         "This World Over, Vol. 1",
         "2022-04-01",
         "12",
         "185108",
         "False",
         null,
         "2022"
        ],
        [
         "9",
         "4Q9H04QsepIlowf0EgC7oi",
         "Making Memories",
         "Global Genius",
         "New Folk",
         "2019-08-15",
         "12",
         "223129",
         "False",
         null,
         "2019"
        ],
        [
         "10",
         "1BxfuPKGuaTgP7aM0Bbdwr",
         "Cruel Summer",
         "Taylor Swift",
         "Lover",
         "2019-08-23",
         "89",
         "178426",
         "False",
         null,
         "2019"
        ],
        [
         "11",
         "3hUxzQpSfdDqwM3ZTFQY0K",
         "august",
         "Taylor Swift",
         "folklore",
         "2020-07-24",
         "88",
         "261922",
         "False",
         null,
         "2020"
        ],
        [
         "12",
         "4R2kfaDFhslZEMJqAFNpdd",
         "cardigan",
         "Taylor Swift",
         "folklore",
         "2020-07-24",
         "86",
         "239560",
         "False",
         null,
         "2020"
        ],
        [
         "13",
         "0ug5NqcwcFR2xrfTkc7k8e",
         "Style",
         "Taylor Swift",
         "1989 (Deluxe)",
         "2014-01-01",
         "84",
         "231000",
         "False",
         null,
         "2014"
        ],
        [
         "14",
         "1u8c2t2Cy7UBoG4ArRcF5g",
         "Blank Space",
         "Taylor Swift",
         "1989 (Deluxe)",
         "2014-01-01",
         "83",
         "231826",
         "False",
         null,
         "2014"
        ],
        [
         "15",
         "1dGr1c8CrMLDpV6mPbImSI",
         "Lover",
         "Taylor Swift",
         "Lover",
         "2019-08-23",
         "86",
         "221306",
         "False",
         null,
         "2019"
        ],
        [
         "16",
         "2OzhQlSqBEmt7hmkYxfT6m",
         "Fortnight (feat. Post Malone)",
         "Taylor Swift, Post Malone",
         "THE TORTURED POETS DEPARTMENT",
         "2024-04-18",
         "83",
         "228965",
         "False",
         null,
         "2024"
        ],
        [
         "17",
         "0cqRj7pUJDkTCEsJkx8snD",
         "Shake It Off",
         "Taylor Swift",
         "1989 (Deluxe)",
         "2014-01-01",
         "81",
         "219200",
         "False",
         null,
         "2014"
        ],
        [
         "18",
         "1R0a2iXumgCiFb7HEZ7gUE",
         "Don’t Blame Me",
         "Taylor Swift",
         "reputation",
         "2017-11-10",
         "83",
         "236413",
         "False",
         null,
         "2017"
        ],
        [
         "19",
         "1qrpoAMXodY6895hGKoUpA",
         "You Belong With Me (Taylor’s Version)",
         "Taylor Swift",
         "Fearless (Taylor's Version)",
         "2021-04-09",
         "83",
         "231124",
         "False",
         null,
         "2021"
        ],
        [
         "20",
         "0GRc3eGTg8HBdWLRGYgqIc",
         "Azizam",
         "Ed Sheeran",
         "Azizam",
         "2025-04-04",
         "88",
         "162029",
         "False",
         "soft pop",
         "2025"
        ],
        [
         "21",
         "4Q0qVhFQa7j6jRKzo3HDmP",
         "Sapphire",
         "Ed Sheeran",
         "Sapphire",
         "2025-06-05",
         "88",
         "179082",
         "False",
         "soft pop",
         "2025"
        ],
        [
         "22",
         "7qiZfU4dY1lWllzX7mPBI3",
         "Shape of You",
         "Ed Sheeran",
         "÷ (Deluxe)",
         "2017-03-03",
         "88",
         "233712",
         "False",
         "soft pop",
         "2017"
        ],
        [
         "23",
         "0tgVpDi06FyKpA1z0VMD4v",
         "Perfect",
         "Ed Sheeran",
         "÷ (Deluxe)",
         "2017-03-03",
         "88",
         "263400",
         "False",
         "soft pop",
         "2017"
        ],
        [
         "24",
         "3FSPaBp49Clqq2p4zc9dbA",
         "Photograph",
         "Ed Sheeran",
         "x (Wembley Edition)",
         "2013",
         "58",
         "258986",
         "False",
         "soft pop",
         "2013"
        ],
        [
         "25",
         "0k4nrrCsMr0Tao5WvQ8Osq",
         "Thinking out Loud",
         "Ed Sheeran",
         "x (Wembley Edition)",
         "2013",
         "54",
         "281560",
         "False",
         "soft pop",
         "2013"
        ],
        [
         "26",
         "3rmo8F54jFF8OgYsqTxm5d",
         "Bad Habits",
         "Ed Sheeran",
         "=",
         "2021-10-25",
         "82",
         "230746",
         "False",
         "soft pop",
         "2021"
        ],
        [
         "27",
         "50nfwKoDiSYg8zOCREWAm5",
         "Shivers",
         "Ed Sheeran",
         "=",
         "2021-10-25",
         "82",
         "207853",
         "False",
         "soft pop",
         "2021"
        ],
        [
         "28",
         "6hvRoJ0BTZywxu8UCPBkzx",
         "I Don't Care",
         "Ed Sheeran, Justin Bieber",
         "+-=÷× (Tour Collection)",
         "2024-09-27",
         "68",
         "219946",
         "False",
         "soft pop",
         "2024"
        ],
        [
         "29",
         "0afhq8XCExXpqazXczTSve",
         "Galway Girl",
         "Ed Sheeran",
         "÷ (Deluxe)",
         "2017-03-03",
         "80",
         "170826",
         "False",
         "soft pop",
         "2017"
        ],
        [
         "30",
         "51ZQ1vr10ffzbwIjDCwqm4",
         "we can't be friends (wait for your love)",
         "Ariana Grande",
         "eternal sunshine",
         "2024-03-08",
         "86",
         "228639",
         "False",
         "pop",
         "2024"
        ],
        [
         "31",
         "1oFAF1hdPOickyHgbuRjyX",
         "Save Your Tears (Remix) (with Ariana Grande) - Bonus Track",
         "The Weeknd, Ariana Grande",
         "After Hours (Deluxe)",
         "2020-03-20",
         "81",
         "191013",
         "False",
         "pop",
         "2020"
        ],
        [
         "32",
         "76FZM38RC8XaAjJ77CVTNe",
         "Into You",
         "Ariana Grande",
         "Dangerous Woman",
         "2016-04-01",
         "81",
         "244453",
         "False",
         "pop",
         "2016"
        ],
        [
         "33",
         "7xoUc6faLbCqZO6fQEYprd",
         "One Last Time",
         "Ariana Grande",
         "My Everything (Deluxe)",
         "2014-08-22",
         "84",
         "197266",
         "False",
         "pop",
         "2014"
        ],
        [
         "34",
         "142PiXzA84lmEw2RstFHFa",
         "supernatural",
         "Ariana Grande",
         "eternal sunshine",
         "2024-03-08",
         "83",
         "163381",
         "False",
         "pop",
         "2024"
        ],
        [
         "35",
         "6ocbgoVGwYJhOv1GgI9NsF",
         "7 rings",
         "Ariana Grande",
         "thank u, next",
         "2019-02-08",
         "83",
         "178626",
         "True",
         "pop",
         "2019"
        ],
        [
         "36",
         "44ONERBHALxftQNWq6dmyd",
         "Side To Side",
         "Ariana Grande, Nicki Minaj",
         "Dangerous Woman",
         "2016-04-01",
         "80",
         "226160",
         "True",
         "pop",
         "2016"
        ],
        [
         "37",
         "3nef5W8jTkXrOKgCu4kmq7",
         "Dangerous Woman",
         "Ariana Grande",
         "Dangerous Woman",
         "2016-04-01",
         "79",
         "235946",
         "False",
         "pop",
         "2016"
        ],
        [
         "38",
         "1edcyazKIdKrIuz9cWpXU6",
         "twilight zone",
         "Ariana Grande",
         "eternal sunshine deluxe: brighter days ahead (a cappella version)",
         "2025-03-27",
         "74",
         "198320",
         "False",
         "pop",
         "2025"
        ],
        [
         "39",
         "5J4ZkQpzMUFojo1CtAZYpn",
         "Love Me Harder",
         "Ariana Grande, The Weeknd",
         "My Everything (Deluxe)",
         "2014-08-22",
         "81",
         "236133",
         "False",
         "pop",
         "2014"
        ],
        [
         "40",
         "6JIC3hbC28JZKZ8AlAqX8h",
         "Cold Heart - PNAU Remix",
         "Elton John, Dua Lipa, PNAU",
         "The Lockdown Sessions",
         "2021-10-22",
         "78",
         "202735",
         "False",
         "pop",
         "2021"
        ],
        [
         "41",
         "2ThsBNtjuUEERqcpXQEoYR",
         "Don't Start Now",
         "Dua Lipa",
         "Future Nostalgia",
         "2020-03-27",
         "58",
         "183290",
         "False",
         "pop",
         "2020"
        ],
        [
         "42",
         "76dIZzTdrNO15mGBrU3MHi",
         "One Kiss (with Dua Lipa)",
         "Calvin Harris, Dua Lipa",
         "96 Months",
         "2024-08-08",
         "76",
         "214846",
         "False",
         "edm, pop",
         "2024"
        ],
        [
         "43",
         "49gruEYzuJZoy4R2q5xVlT",
         "Levitating (feat. DaBaby)",
         "Dua Lipa, DaBaby",
         "Future Nostalgia",
         "2020-03-27",
         "58",
         "203064",
         "False",
         "pop",
         "2020"
        ],
        [
         "44",
         "3QftqIoFrzYaEOGrQdjWe7",
         "New Rules",
         "Dua Lipa",
         "Dua Lipa (Complete Edition)",
         "2017-06-02",
         "57",
         "212000",
         "False",
         "pop",
         "2017"
        ],
        [
         "45",
         "5x9ElMtD3xy0verHZWOGqr",
         "Houdini",
         "Dua Lipa",
         "Radical Optimism",
         "2024-05-03",
         "56",
         "185917",
         "False",
         "pop",
         "2024"
        ],
        [
         "46",
         "0hn632ADBvcrXJprwj6Ry2",
         "Training Season",
         "Dua Lipa",
         "Radical Optimism",
         "2024-05-03",
         "56",
         "209487",
         "False",
         "pop",
         "2024"
        ],
        [
         "47",
         "1vYXt7VSjH9JIM5oRRo7vA",
         "Dance The Night - From Barbie The Album",
         "Dua Lipa",
         "Dance The Night (From Barbie The Album)",
         "2023-05-25",
         "80",
         "176579",
         "False",
         "pop",
         "2023"
        ],
        [
         "48",
         "5uu0D02efCoFMQiLYFT32e",
         "Levitating",
         "Dua Lipa",
         "Future Nostalgia",
         "2020-03-27",
         "54",
         "203807",
         "False",
         "pop",
         "2020"
        ],
        [
         "49",
         "1XrzQqBNii8fUo3X0SvAoH",
         "IDGAF",
         "Dua Lipa",
         "Dua Lipa (Complete Edition)",
         "2017-06-02",
         "54",
         "218173",
         "True",
         "pop",
         "2017"
        ]
       ],
       "shape": {
        "columns": 10,
        "rows": 2711
       }
      },
      "text/html": [
       "<div>\n",
       "<style scoped>\n",
       "    .dataframe tbody tr th:only-of-type {\n",
       "        vertical-align: middle;\n",
       "    }\n",
       "\n",
       "    .dataframe tbody tr th {\n",
       "        vertical-align: top;\n",
       "    }\n",
       "\n",
       "    .dataframe thead th {\n",
       "        text-align: right;\n",
       "    }\n",
       "</style>\n",
       "<table border=\"1\" class=\"dataframe\">\n",
       "  <thead>\n",
       "    <tr style=\"text-align: right;\">\n",
       "      <th></th>\n",
       "      <th>track_id</th>\n",
       "      <th>track_name</th>\n",
       "      <th>artist_name</th>\n",
       "      <th>album_name</th>\n",
       "      <th>release_date</th>\n",
       "      <th>popularity</th>\n",
       "      <th>duration_ms</th>\n",
       "      <th>explicit</th>\n",
       "      <th>artist_genres</th>\n",
       "      <th>release_year</th>\n",
       "    </tr>\n",
       "  </thead>\n",
       "  <tbody>\n",
       "    <tr>\n",
       "      <th>0</th>\n",
       "      <td>4AEpB1NhDW9Hgk9hZKcG5R</td>\n",
       "      <td>Bistro Europa</td>\n",
       "      <td>Global Genius</td>\n",
       "      <td>This World Over, Vol. 2</td>\n",
       "      <td>2022-04-01</td>\n",
       "      <td>29</td>\n",
       "      <td>210913</td>\n",
       "      <td>False</td>\n",
       "      <td>NaN</td>\n",
       "      <td>2022</td>\n",
       "    </tr>\n",
       "    <tr>\n",
       "      <th>1</th>\n",
       "      <td>44UVE3OdLbPEap9VtrAZEU</td>\n",
       "      <td>Obrigada Meu Amor</td>\n",
       "      <td>Global Genius</td>\n",
       "      <td>This World Over, Vol. 1</td>\n",
       "      <td>2022-04-01</td>\n",
       "      <td>25</td>\n",
       "      <td>138987</td>\n",
       "      <td>False</td>\n",
       "      <td>NaN</td>\n",
       "      <td>2022</td>\n",
       "    </tr>\n",
       "    <tr>\n",
       "      <th>2</th>\n",
       "      <td>1EeH3JZvWaEIOfLGx18EWc</td>\n",
       "      <td>Moon Over Milan</td>\n",
       "      <td>Global Genius</td>\n",
       "      <td>This World Over, Vol. 2</td>\n",
       "      <td>2022-04-01</td>\n",
       "      <td>23</td>\n",
       "      <td>153333</td>\n",
       "      <td>False</td>\n",
       "      <td>NaN</td>\n",
       "      <td>2022</td>\n",
       "    </tr>\n",
       "    <tr>\n",
       "      <th>3</th>\n",
       "      <td>4Z7Y8wXZW5m1MskicNK6i8</td>\n",
       "      <td>Jazzy Wanderer</td>\n",
       "      <td>Global Genius</td>\n",
       "      <td>This World Over, Vol. 1</td>\n",
       "      <td>2022-04-01</td>\n",
       "      <td>22</td>\n",
       "      <td>227859</td>\n",
       "      <td>False</td>\n",
       "      <td>NaN</td>\n",
       "      <td>2022</td>\n",
       "    </tr>\n",
       "    <tr>\n",
       "      <th>4</th>\n",
       "      <td>4gL1eTz74RnX7wPK5wB7tY</td>\n",
       "      <td>Say Everything</td>\n",
       "      <td>Global Genius</td>\n",
       "      <td>New Folk</td>\n",
       "      <td>2019-08-15</td>\n",
       "      <td>20</td>\n",
       "      <td>230995</td>\n",
       "      <td>False</td>\n",
       "      <td>NaN</td>\n",
       "      <td>2019</td>\n",
       "    </tr>\n",
       "    <tr>\n",
       "      <th>...</th>\n",
       "      <td>...</td>\n",
       "      <td>...</td>\n",
       "      <td>...</td>\n",
       "      <td>...</td>\n",
       "      <td>...</td>\n",
       "      <td>...</td>\n",
       "      <td>...</td>\n",
       "      <td>...</td>\n",
       "      <td>...</td>\n",
       "      <td>...</td>\n",
       "    </tr>\n",
       "    <tr>\n",
       "      <th>2706</th>\n",
       "      <td>42GVFip18j7QYynp0uhEpx</td>\n",
       "      <td>Don't Be Shy</td>\n",
       "      <td>Tiësto, KAROL G</td>\n",
       "      <td>DRIVE</td>\n",
       "      <td>2023-04-21</td>\n",
       "      <td>32</td>\n",
       "      <td>140500</td>\n",
       "      <td>True</td>\n",
       "      <td>big room, dance, edm, house, latin, reggaeton,...</td>\n",
       "      <td>2023</td>\n",
       "    </tr>\n",
       "    <tr>\n",
       "      <th>2707</th>\n",
       "      <td>1Ikjimk3AsR6GEcXXzWjlX</td>\n",
       "      <td>Bet My Dollar</td>\n",
       "      <td>Tiësto, Freya Ridings</td>\n",
       "      <td>DRIVE</td>\n",
       "      <td>2023-04-21</td>\n",
       "      <td>30</td>\n",
       "      <td>204000</td>\n",
       "      <td>False</td>\n",
       "      <td>big room, dance, edm, house, trance</td>\n",
       "      <td>2023</td>\n",
       "    </tr>\n",
       "    <tr>\n",
       "      <th>2708</th>\n",
       "      <td>4uhP9qUxuS4BtnouMRIjEI</td>\n",
       "      <td>Back Around</td>\n",
       "      <td>Tiësto, AR/CO</td>\n",
       "      <td>DRIVE</td>\n",
       "      <td>2023-04-21</td>\n",
       "      <td>30</td>\n",
       "      <td>175403</td>\n",
       "      <td>False</td>\n",
       "      <td>big room, dance, edm, house, trance</td>\n",
       "      <td>2023</td>\n",
       "    </tr>\n",
       "    <tr>\n",
       "      <th>2709</th>\n",
       "      <td>4aX6sHB8xxavVzMezprulu</td>\n",
       "      <td>Lay Low</td>\n",
       "      <td>Tiësto</td>\n",
       "      <td>DRIVE</td>\n",
       "      <td>2023-04-21</td>\n",
       "      <td>32</td>\n",
       "      <td>153442</td>\n",
       "      <td>False</td>\n",
       "      <td>big room, dance, edm, house, trance</td>\n",
       "      <td>2023</td>\n",
       "    </tr>\n",
       "    <tr>\n",
       "      <th>2710</th>\n",
       "      <td>3BuHeeCEqJ41hBkiK069RA</td>\n",
       "      <td>Yesterday</td>\n",
       "      <td>Tiësto</td>\n",
       "      <td>DRIVE</td>\n",
       "      <td>2023-04-21</td>\n",
       "      <td>48</td>\n",
       "      <td>140160</td>\n",
       "      <td>False</td>\n",
       "      <td>big room, dance, edm, house, trance</td>\n",
       "      <td>2023</td>\n",
       "    </tr>\n",
       "  </tbody>\n",
       "</table>\n",
       "<p>2711 rows × 10 columns</p>\n",
       "</div>"
      ],
      "text/plain": [
       "                    track_id         track_name            artist_name  \\\n",
       "0     4AEpB1NhDW9Hgk9hZKcG5R      Bistro Europa          Global Genius   \n",
       "1     44UVE3OdLbPEap9VtrAZEU  Obrigada Meu Amor          Global Genius   \n",
       "2     1EeH3JZvWaEIOfLGx18EWc    Moon Over Milan          Global Genius   \n",
       "3     4Z7Y8wXZW5m1MskicNK6i8     Jazzy Wanderer          Global Genius   \n",
       "4     4gL1eTz74RnX7wPK5wB7tY     Say Everything          Global Genius   \n",
       "...                      ...                ...                    ...   \n",
       "2706  42GVFip18j7QYynp0uhEpx       Don't Be Shy        Tiësto, KAROL G   \n",
       "2707  1Ikjimk3AsR6GEcXXzWjlX      Bet My Dollar  Tiësto, Freya Ridings   \n",
       "2708  4uhP9qUxuS4BtnouMRIjEI        Back Around          Tiësto, AR/CO   \n",
       "2709  4aX6sHB8xxavVzMezprulu            Lay Low                 Tiësto   \n",
       "2710  3BuHeeCEqJ41hBkiK069RA          Yesterday                 Tiësto   \n",
       "\n",
       "                   album_name release_date  popularity  duration_ms  explicit  \\\n",
       "0     This World Over, Vol. 2   2022-04-01          29       210913     False   \n",
       "1     This World Over, Vol. 1   2022-04-01          25       138987     False   \n",
       "2     This World Over, Vol. 2   2022-04-01          23       153333     False   \n",
       "3     This World Over, Vol. 1   2022-04-01          22       227859     False   \n",
       "4                    New Folk   2019-08-15          20       230995     False   \n",
       "...                       ...          ...         ...          ...       ...   \n",
       "2706                    DRIVE   2023-04-21          32       140500      True   \n",
       "2707                    DRIVE   2023-04-21          30       204000     False   \n",
       "2708                    DRIVE   2023-04-21          30       175403     False   \n",
       "2709                    DRIVE   2023-04-21          32       153442     False   \n",
       "2710                    DRIVE   2023-04-21          48       140160     False   \n",
       "\n",
       "                                          artist_genres  release_year  \n",
       "0                                                   NaN          2022  \n",
       "1                                                   NaN          2022  \n",
       "2                                                   NaN          2022  \n",
       "3                                                   NaN          2022  \n",
       "4                                                   NaN          2019  \n",
       "...                                                 ...           ...  \n",
       "2706  big room, dance, edm, house, latin, reggaeton,...          2023  \n",
       "2707                big room, dance, edm, house, trance          2023  \n",
       "2708                big room, dance, edm, house, trance          2023  \n",
       "2709                big room, dance, edm, house, trance          2023  \n",
       "2710                big room, dance, edm, house, trance          2023  \n",
       "\n",
       "[2711 rows x 10 columns]"
      ]
     },
     "execution_count": 13,
     "metadata": {},
     "output_type": "execute_result"
    }
   ],
   "source": [
    "# CSV einlesen\n",
    "df = pd.read_csv(\"/Users/michel/Documents/Data Scientist/Abschlussprojekt Song empfehlung/data/raw/mix_master.csv\")\n",
    "df"
   ]
  },
  {
   "cell_type": "markdown",
   "id": "48d125cf",
   "metadata": {},
   "source": [
    "## Überblick"
   ]
  },
  {
   "cell_type": "code",
   "execution_count": 14,
   "id": "fbe6717a",
   "metadata": {},
   "outputs": [
    {
     "name": "stdout",
     "output_type": "stream",
     "text": [
      "Shape: (2711, 10)\n",
      "\n",
      "Spalten: ['track_id', 'track_name', 'artist_name', 'album_name', 'release_date', 'popularity', 'duration_ms', 'explicit', 'artist_genres', 'release_year']\n",
      "\n",
      "Erste Zeilen:\n"
     ]
    },
    {
     "data": {
      "application/vnd.microsoft.datawrangler.viewer.v0+json": {
       "columns": [
        {
         "name": "index",
         "rawType": "int64",
         "type": "integer"
        },
        {
         "name": "track_id",
         "rawType": "object",
         "type": "string"
        },
        {
         "name": "track_name",
         "rawType": "object",
         "type": "string"
        },
        {
         "name": "artist_name",
         "rawType": "object",
         "type": "string"
        },
        {
         "name": "album_name",
         "rawType": "object",
         "type": "string"
        },
        {
         "name": "release_date",
         "rawType": "object",
         "type": "string"
        },
        {
         "name": "popularity",
         "rawType": "int64",
         "type": "integer"
        },
        {
         "name": "duration_ms",
         "rawType": "int64",
         "type": "integer"
        },
        {
         "name": "explicit",
         "rawType": "bool",
         "type": "boolean"
        },
        {
         "name": "artist_genres",
         "rawType": "object",
         "type": "unknown"
        },
        {
         "name": "release_year",
         "rawType": "int64",
         "type": "integer"
        }
       ],
       "ref": "7b70a761-2539-4d34-9df3-28289869d9c6",
       "rows": [
        [
         "0",
         "4AEpB1NhDW9Hgk9hZKcG5R",
         "Bistro Europa",
         "Global Genius",
         "This World Over, Vol. 2",
         "2022-04-01",
         "29",
         "210913",
         "False",
         null,
         "2022"
        ],
        [
         "1",
         "44UVE3OdLbPEap9VtrAZEU",
         "Obrigada Meu Amor",
         "Global Genius",
         "This World Over, Vol. 1",
         "2022-04-01",
         "25",
         "138987",
         "False",
         null,
         "2022"
        ],
        [
         "2",
         "1EeH3JZvWaEIOfLGx18EWc",
         "Moon Over Milan",
         "Global Genius",
         "This World Over, Vol. 2",
         "2022-04-01",
         "23",
         "153333",
         "False",
         null,
         "2022"
        ],
        [
         "3",
         "4Z7Y8wXZW5m1MskicNK6i8",
         "Jazzy Wanderer",
         "Global Genius",
         "This World Over, Vol. 1",
         "2022-04-01",
         "22",
         "227859",
         "False",
         null,
         "2022"
        ],
        [
         "4",
         "4gL1eTz74RnX7wPK5wB7tY",
         "Say Everything",
         "Global Genius",
         "New Folk",
         "2019-08-15",
         "20",
         "230995",
         "False",
         null,
         "2019"
        ]
       ],
       "shape": {
        "columns": 10,
        "rows": 5
       }
      },
      "text/html": [
       "<div>\n",
       "<style scoped>\n",
       "    .dataframe tbody tr th:only-of-type {\n",
       "        vertical-align: middle;\n",
       "    }\n",
       "\n",
       "    .dataframe tbody tr th {\n",
       "        vertical-align: top;\n",
       "    }\n",
       "\n",
       "    .dataframe thead th {\n",
       "        text-align: right;\n",
       "    }\n",
       "</style>\n",
       "<table border=\"1\" class=\"dataframe\">\n",
       "  <thead>\n",
       "    <tr style=\"text-align: right;\">\n",
       "      <th></th>\n",
       "      <th>track_id</th>\n",
       "      <th>track_name</th>\n",
       "      <th>artist_name</th>\n",
       "      <th>album_name</th>\n",
       "      <th>release_date</th>\n",
       "      <th>popularity</th>\n",
       "      <th>duration_ms</th>\n",
       "      <th>explicit</th>\n",
       "      <th>artist_genres</th>\n",
       "      <th>release_year</th>\n",
       "    </tr>\n",
       "  </thead>\n",
       "  <tbody>\n",
       "    <tr>\n",
       "      <th>0</th>\n",
       "      <td>4AEpB1NhDW9Hgk9hZKcG5R</td>\n",
       "      <td>Bistro Europa</td>\n",
       "      <td>Global Genius</td>\n",
       "      <td>This World Over, Vol. 2</td>\n",
       "      <td>2022-04-01</td>\n",
       "      <td>29</td>\n",
       "      <td>210913</td>\n",
       "      <td>False</td>\n",
       "      <td>NaN</td>\n",
       "      <td>2022</td>\n",
       "    </tr>\n",
       "    <tr>\n",
       "      <th>1</th>\n",
       "      <td>44UVE3OdLbPEap9VtrAZEU</td>\n",
       "      <td>Obrigada Meu Amor</td>\n",
       "      <td>Global Genius</td>\n",
       "      <td>This World Over, Vol. 1</td>\n",
       "      <td>2022-04-01</td>\n",
       "      <td>25</td>\n",
       "      <td>138987</td>\n",
       "      <td>False</td>\n",
       "      <td>NaN</td>\n",
       "      <td>2022</td>\n",
       "    </tr>\n",
       "    <tr>\n",
       "      <th>2</th>\n",
       "      <td>1EeH3JZvWaEIOfLGx18EWc</td>\n",
       "      <td>Moon Over Milan</td>\n",
       "      <td>Global Genius</td>\n",
       "      <td>This World Over, Vol. 2</td>\n",
       "      <td>2022-04-01</td>\n",
       "      <td>23</td>\n",
       "      <td>153333</td>\n",
       "      <td>False</td>\n",
       "      <td>NaN</td>\n",
       "      <td>2022</td>\n",
       "    </tr>\n",
       "    <tr>\n",
       "      <th>3</th>\n",
       "      <td>4Z7Y8wXZW5m1MskicNK6i8</td>\n",
       "      <td>Jazzy Wanderer</td>\n",
       "      <td>Global Genius</td>\n",
       "      <td>This World Over, Vol. 1</td>\n",
       "      <td>2022-04-01</td>\n",
       "      <td>22</td>\n",
       "      <td>227859</td>\n",
       "      <td>False</td>\n",
       "      <td>NaN</td>\n",
       "      <td>2022</td>\n",
       "    </tr>\n",
       "    <tr>\n",
       "      <th>4</th>\n",
       "      <td>4gL1eTz74RnX7wPK5wB7tY</td>\n",
       "      <td>Say Everything</td>\n",
       "      <td>Global Genius</td>\n",
       "      <td>New Folk</td>\n",
       "      <td>2019-08-15</td>\n",
       "      <td>20</td>\n",
       "      <td>230995</td>\n",
       "      <td>False</td>\n",
       "      <td>NaN</td>\n",
       "      <td>2019</td>\n",
       "    </tr>\n",
       "  </tbody>\n",
       "</table>\n",
       "</div>"
      ],
      "text/plain": [
       "                 track_id         track_name    artist_name  \\\n",
       "0  4AEpB1NhDW9Hgk9hZKcG5R      Bistro Europa  Global Genius   \n",
       "1  44UVE3OdLbPEap9VtrAZEU  Obrigada Meu Amor  Global Genius   \n",
       "2  1EeH3JZvWaEIOfLGx18EWc    Moon Over Milan  Global Genius   \n",
       "3  4Z7Y8wXZW5m1MskicNK6i8     Jazzy Wanderer  Global Genius   \n",
       "4  4gL1eTz74RnX7wPK5wB7tY     Say Everything  Global Genius   \n",
       "\n",
       "                album_name release_date  popularity  duration_ms  explicit  \\\n",
       "0  This World Over, Vol. 2   2022-04-01          29       210913     False   \n",
       "1  This World Over, Vol. 1   2022-04-01          25       138987     False   \n",
       "2  This World Over, Vol. 2   2022-04-01          23       153333     False   \n",
       "3  This World Over, Vol. 1   2022-04-01          22       227859     False   \n",
       "4                 New Folk   2019-08-15          20       230995     False   \n",
       "\n",
       "  artist_genres  release_year  \n",
       "0           NaN          2022  \n",
       "1           NaN          2022  \n",
       "2           NaN          2022  \n",
       "3           NaN          2022  \n",
       "4           NaN          2019  "
      ]
     },
     "metadata": {},
     "output_type": "display_data"
    }
   ],
   "source": [
    "print(\"Shape:\", df.shape)\n",
    "print(\"\\nSpalten:\", df.columns.tolist())\n",
    "print(\"\\nErste Zeilen:\")\n",
    "display(df.head())"
   ]
  },
  {
   "cell_type": "code",
   "execution_count": 15,
   "id": "5685b2b7",
   "metadata": {},
   "outputs": [
    {
     "name": "stdout",
     "output_type": "stream",
     "text": [
      "Duplikate: 0\n"
     ]
    }
   ],
   "source": [
    "# Duplikate prüfen\n",
    "if \"track_id\" in df.columns:\n",
    "    print(\"Duplikate:\", df.duplicated(subset=[\"track_id\"]).sum())"
   ]
  },
  {
   "cell_type": "code",
   "execution_count": 16,
   "id": "d8dd664e",
   "metadata": {},
   "outputs": [
    {
     "name": "stdout",
     "output_type": "stream",
     "text": [
      "\n",
      "Missing Values:\n",
      "track_id           0\n",
      "track_name         0\n",
      "artist_name        0\n",
      "album_name         0\n",
      "release_date       0\n",
      "popularity         0\n",
      "duration_ms        0\n",
      "explicit           0\n",
      "artist_genres    924\n",
      "release_year       0\n",
      "dtype: int64\n"
     ]
    }
   ],
   "source": [
    "# Fehlende Werte\n",
    "print(\"\\nMissing Values:\")\n",
    "print(df.isna().sum())"
   ]
  },
  {
   "cell_type": "code",
   "execution_count": 17,
   "id": "bcec0186",
   "metadata": {},
   "outputs": [
    {
     "name": "stdout",
     "output_type": "stream",
     "text": [
      "\n",
      "Numerische Statistik:\n"
     ]
    },
    {
     "data": {
      "application/vnd.microsoft.datawrangler.viewer.v0+json": {
       "columns": [
        {
         "name": "index",
         "rawType": "object",
         "type": "string"
        },
        {
         "name": "popularity",
         "rawType": "float64",
         "type": "float"
        },
        {
         "name": "duration_ms",
         "rawType": "float64",
         "type": "float"
        },
        {
         "name": "release_year",
         "rawType": "float64",
         "type": "float"
        }
       ],
       "ref": "76476b33-fe1f-4324-a9e9-e299aee90f40",
       "rows": [
        [
         "count",
         "2711.0",
         "2711.0",
         "2711.0"
        ],
        [
         "mean",
         "39.433788270011064",
         "205706.62449280708",
         "2021.9609000368869"
        ],
        [
         "std",
         "34.07281038815313",
         "57099.1459907757",
         "5.437055293055734"
        ],
        [
         "min",
         "0.0",
         "31507.0",
         "1989.0"
        ],
        [
         "25%",
         "0.0",
         "171160.0",
         "2021.0"
        ],
        [
         "50%",
         "51.0",
         "199874.0",
         "2025.0"
        ],
        [
         "75%",
         "71.0",
         "229933.0",
         "2025.0"
        ],
        [
         "max",
         "100.0",
         "1114155.0",
         "2025.0"
        ]
       ],
       "shape": {
        "columns": 3,
        "rows": 8
       }
      },
      "text/html": [
       "<div>\n",
       "<style scoped>\n",
       "    .dataframe tbody tr th:only-of-type {\n",
       "        vertical-align: middle;\n",
       "    }\n",
       "\n",
       "    .dataframe tbody tr th {\n",
       "        vertical-align: top;\n",
       "    }\n",
       "\n",
       "    .dataframe thead th {\n",
       "        text-align: right;\n",
       "    }\n",
       "</style>\n",
       "<table border=\"1\" class=\"dataframe\">\n",
       "  <thead>\n",
       "    <tr style=\"text-align: right;\">\n",
       "      <th></th>\n",
       "      <th>popularity</th>\n",
       "      <th>duration_ms</th>\n",
       "      <th>release_year</th>\n",
       "    </tr>\n",
       "  </thead>\n",
       "  <tbody>\n",
       "    <tr>\n",
       "      <th>count</th>\n",
       "      <td>2711.000000</td>\n",
       "      <td>2.711000e+03</td>\n",
       "      <td>2711.000000</td>\n",
       "    </tr>\n",
       "    <tr>\n",
       "      <th>mean</th>\n",
       "      <td>39.433788</td>\n",
       "      <td>2.057066e+05</td>\n",
       "      <td>2021.960900</td>\n",
       "    </tr>\n",
       "    <tr>\n",
       "      <th>std</th>\n",
       "      <td>34.072810</td>\n",
       "      <td>5.709915e+04</td>\n",
       "      <td>5.437055</td>\n",
       "    </tr>\n",
       "    <tr>\n",
       "      <th>min</th>\n",
       "      <td>0.000000</td>\n",
       "      <td>3.150700e+04</td>\n",
       "      <td>1989.000000</td>\n",
       "    </tr>\n",
       "    <tr>\n",
       "      <th>25%</th>\n",
       "      <td>0.000000</td>\n",
       "      <td>1.711600e+05</td>\n",
       "      <td>2021.000000</td>\n",
       "    </tr>\n",
       "    <tr>\n",
       "      <th>50%</th>\n",
       "      <td>51.000000</td>\n",
       "      <td>1.998740e+05</td>\n",
       "      <td>2025.000000</td>\n",
       "    </tr>\n",
       "    <tr>\n",
       "      <th>75%</th>\n",
       "      <td>71.000000</td>\n",
       "      <td>2.299330e+05</td>\n",
       "      <td>2025.000000</td>\n",
       "    </tr>\n",
       "    <tr>\n",
       "      <th>max</th>\n",
       "      <td>100.000000</td>\n",
       "      <td>1.114155e+06</td>\n",
       "      <td>2025.000000</td>\n",
       "    </tr>\n",
       "  </tbody>\n",
       "</table>\n",
       "</div>"
      ],
      "text/plain": [
       "        popularity   duration_ms  release_year\n",
       "count  2711.000000  2.711000e+03   2711.000000\n",
       "mean     39.433788  2.057066e+05   2021.960900\n",
       "std      34.072810  5.709915e+04      5.437055\n",
       "min       0.000000  3.150700e+04   1989.000000\n",
       "25%       0.000000  1.711600e+05   2021.000000\n",
       "50%      51.000000  1.998740e+05   2025.000000\n",
       "75%      71.000000  2.299330e+05   2025.000000\n",
       "max     100.000000  1.114155e+06   2025.000000"
      ]
     },
     "metadata": {},
     "output_type": "display_data"
    }
   ],
   "source": [
    "# Deskriptive Statistik\n",
    "print(\"\\nNumerische Statistik:\")\n",
    "display(df.describe())\n"
   ]
  },
  {
   "cell_type": "markdown",
   "id": "26b9e73d",
   "metadata": {},
   "source": [
    "## Genre-Verteilung"
   ]
  },
  {
   "cell_type": "code",
   "execution_count": 18,
   "id": "8fe569e8",
   "metadata": {},
   "outputs": [
    {
     "name": "stderr",
     "output_type": "stream",
     "text": [
      "/var/folders/34/jql_wts12tg00mygvqnlpzwc0000gn/T/ipykernel_31696/302239367.py:6: FutureWarning: \n",
      "\n",
      "Passing `palette` without assigning `hue` is deprecated and will be removed in v0.14.0. Assign the `y` variable to `hue` and set `legend=False` for the same effect.\n",
      "\n",
      "  sns.barplot(x=genre_counts.values, y=genre_counts.index, palette=\"viridis\")\n"
     ]
    },
    {
     "data": {
      "image/png": "[encoded data removed]",
      "text/plain": [
       "<Figure size 1000x600 with 1 Axes>"
      ]
     },
     "metadata": {},
     "output_type": "display_data"
    }
   ],
   "source": [
    "if \"artist_genres\" in df.columns:\n",
    "    df[\"main_genre\"] = df[\"artist_genres\"].astype(str).str.split(\",\").str[0]\n",
    "    genre_counts = df[\"main_genre\"].value_counts().head(15)\n",
    "\n",
    "    plt.figure(figsize=(10,6))\n",
    "    sns.barplot(x=genre_counts.values, y=genre_counts.index, palette=\"viridis\")\n",
    "    plt.title(\"Top 15 Genres\")\n",
    "    plt.xlabel(\"Anzahl Songs\")\n",
    "    plt.show()"
   ]
  },
  {
   "cell_type": "code",
   "execution_count": 19,
   "id": "473da839",
   "metadata": {},
   "outputs": [
    {
     "data": {
      "image/png": "[encoded data removed]",
      "text/plain": [
       "<Figure size 800x500 with 1 Axes>"
      ]
     },
     "metadata": {},
     "output_type": "display_data"
    }
   ],
   "source": [
    "# Song-Längen\n",
    "if \"duration_ms\" in df.columns:\n",
    "    df[\"duration_min\"] = df[\"duration_ms\"] / 60000\n",
    "    plt.figure(figsize=(8,5))\n",
    "    sns.histplot(df[\"duration_min\"], bins=30, kde=True)\n",
    "    plt.title(\"Songlängen (Minuten)\")\n",
    "    plt.xlabel(\"Minuten\")\n",
    "    plt.show()"
   ]
  },
  {
   "cell_type": "code",
   "execution_count": null,
   "id": "191276f9",
   "metadata": {},
   "outputs": [],
   "source": []
  }
 ],
 "metadata": {
  "kernelspec": {
   "display_name": ".venv",
   "language": "python",
   "name": "python3"
  },
  "language_info": {
   "codemirror_mode": {
    "name": "ipython",
    "version": 3
   },
   "file_extension": ".py",
   "mimetype": "text/x-python",
   "name": "python",
   "nbconvert_exporter": "python",
   "pygments_lexer": "ipython3",
   "version": "3.13.2"
  }
 },
 "nbformat": 4,
 "nbformat_minor": 5
}
