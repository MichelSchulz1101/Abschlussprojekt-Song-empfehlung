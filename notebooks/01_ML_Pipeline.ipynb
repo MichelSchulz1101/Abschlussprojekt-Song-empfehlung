{
 "cells": [
  {
   "cell_type": "markdown",
   "id": "27e3ca53",
   "metadata": {},
   "source": [
    "# ML_Pipeline für Song Empfehlungssystem"
   ]
  },
  {
   "cell_type": "code",
   "execution_count": null,
   "id": "79691cf9",
   "metadata": {},
   "outputs": [],
   "source": [
    "import pandas as pd\n",
    "from sklearn.feature_extraction.text import TfidfVectorizer\n",
    "from sklearn.preprocessing import StandardScaler\n",
    "from sklearn.metrics.pairwise import cosine_similarity\n",
    "import numpy as np"
   ]
  },
  {
   "cell_type": "code",
   "execution_count": 5,
   "id": "92a08de0",
   "metadata": {},
   "outputs": [],
   "source": [
    "# Daten laden\n",
    "df = pd.read_csv(\"/Users/michel/Documents/Data Scientist/Abschlussprojekt Song empfehlung/data/raw/mix_master.csv\")"
   ]
  },
  {
   "cell_type": "markdown",
   "id": "dcba6de5",
   "metadata": {},
   "source": [
    "## Daten vorbereiten"
   ]
  },
  {
   "cell_type": "code",
   "execution_count": 7,
   "id": "74a1cc25",
   "metadata": {},
   "outputs": [
    {
     "data": {
      "application/vnd.microsoft.datawrangler.viewer.v0+json": {
       "columns": [
        {
         "name": "index",
         "rawType": "int64",
         "type": "integer"
        },
        {
         "name": "release_year",
         "rawType": "int64",
         "type": "integer"
        }
       ],
       "ref": "3af396c5-ca74-45e2-a659-7a7fbc919af4",
       "rows": [
        [
         "0",
         "2022"
        ],
        [
         "1",
         "2022"
        ],
        [
         "2",
         "2022"
        ],
        [
         "3",
         "2022"
        ],
        [
         "4",
         "2019"
        ],
        [
         "5",
         "2022"
        ],
        [
         "6",
         "2019"
        ],
        [
         "7",
         "2019"
        ],
        [
         "8",
         "2022"
        ],
        [
         "9",
         "2019"
        ],
        [
         "10",
         "2019"
        ],
        [
         "11",
         "2020"
        ],
        [
         "12",
         "2020"
        ],
        [
         "13",
         "2014"
        ],
        [
         "14",
         "2014"
        ],
        [
         "15",
         "2019"
        ],
        [
         "16",
         "2024"
        ],
        [
         "17",
         "2014"
        ],
        [
         "18",
         "2017"
        ],
        [
         "19",
         "2021"
        ],
        [
         "20",
         "2025"
        ],
        [
         "21",
         "2025"
        ],
        [
         "22",
         "2017"
        ],
        [
         "23",
         "2017"
        ],
        [
         "24",
         "0"
        ],
        [
         "25",
         "0"
        ],
        [
         "26",
         "2021"
        ],
        [
         "27",
         "2021"
        ],
        [
         "28",
         "2024"
        ],
        [
         "29",
         "2017"
        ],
        [
         "30",
         "2024"
        ],
        [
         "31",
         "2020"
        ],
        [
         "32",
         "2016"
        ],
        [
         "33",
         "2014"
        ],
        [
         "34",
         "2024"
        ],
        [
         "35",
         "2019"
        ],
        [
         "36",
         "2016"
        ],
        [
         "37",
         "2016"
        ],
        [
         "38",
         "2025"
        ],
        [
         "39",
         "2014"
        ],
        [
         "40",
         "2021"
        ],
        [
         "41",
         "2020"
        ],
        [
         "42",
         "2024"
        ],
        [
         "43",
         "2020"
        ],
        [
         "44",
         "2017"
        ],
        [
         "45",
         "2024"
        ],
        [
         "46",
         "2024"
        ],
        [
         "47",
         "2023"
        ],
        [
         "48",
         "2020"
        ],
        [
         "49",
         "2017"
        ]
       ],
       "shape": {
        "columns": 1,
        "rows": 2711
       }
      },
      "text/plain": [
       "0       2022\n",
       "1       2022\n",
       "2       2022\n",
       "3       2022\n",
       "4       2019\n",
       "        ... \n",
       "2706    2023\n",
       "2707    2023\n",
       "2708    2023\n",
       "2709    2023\n",
       "2710    2023\n",
       "Name: release_year, Length: 2711, dtype: int64"
      ]
     },
     "execution_count": 7,
     "metadata": {},
     "output_type": "execute_result"
    }
   ],
   "source": [
    "# Release-Jahr extrahieren\n",
    "df[\"release_year\"] = pd.to_datetime(df[\"release_date\"], errors=\"coerce\").dt.year.fillna(0).astype(int)\n",
    "df[\"release_year\"]\n"
   ]
  },
  {
   "cell_type": "code",
   "execution_count": 8,
   "id": "e6c0d4fa",
   "metadata": {},
   "outputs": [],
   "source": [
    "# Genres vorbereiten\n",
    "df[\"artist_genres\"] = df[\"artist_genres\"].fillna(\"\")\n"
   ]
  },
  {
   "cell_type": "code",
   "execution_count": 9,
   "id": "66ec7438",
   "metadata": {},
   "outputs": [],
   "source": [
    "# TF-IDF für Genres + Artists\n",
    "vectorizer = TfidfVectorizer(stop_words=\"english\")\n",
    "genre_matrix = vectorizer.fit_transform(df[\"artist_genres\"])\n",
    "\n",
    "artist_vectorizer = TfidfVectorizer(stop_words=\"english\")\n",
    "artist_matrix = artist_vectorizer.fit_transform(df[\"artist_name\"])"
   ]
  },
  {
   "cell_type": "code",
   "execution_count": 10,
   "id": "4bbf9e2c",
   "metadata": {},
   "outputs": [],
   "source": [
    "# Numerische Features\n",
    "numerical = df[[\"release_year\", \"explicit\"]].fillna(0)\n",
    "scaler = StandardScaler()\n",
    "num_scaled = scaler.fit_transform(numerical)"
   ]
  },
  {
   "cell_type": "code",
   "execution_count": 12,
   "id": "2e02ecd4",
   "metadata": {},
   "outputs": [],
   "source": [
    "# Alles kombinieren\n",
    "from scipy.sparse import hstack\n",
    "feature_matrix = hstack([genre_matrix, artist_matrix, num_scaled])"
   ]
  },
  {
   "cell_type": "code",
   "execution_count": 13,
   "id": "ea53811d",
   "metadata": {},
   "outputs": [],
   "source": [
    "# Cosine Similarity\n",
    "cos_sim = cosine_similarity(feature_matrix)"
   ]
  },
  {
   "cell_type": "code",
   "execution_count": 14,
   "id": "15cb3975",
   "metadata": {},
   "outputs": [
    {
     "name": "stdout",
     "output_type": "stream",
     "text": [
      "                                             track_name  \\\n",
      "58                                     Call Out My Name   \n",
      "54                                          Die For You   \n",
      "820                                             LA FAMA   \n",
      "1981                        Wake Me Up - Single Version   \n",
      "31    Save Your Tears (Remix) (with Ariana Grande) -...   \n",
      "\n",
      "                    artist_name           artist_genres  release_year  \n",
      "58                   The Weeknd                                  2018  \n",
      "54                   The Weeknd                                  2016  \n",
      "820         ROSALÍA, The Weeknd                   latin          2022  \n",
      "1981        The Weeknd, Justice  french house, new rave          2025  \n",
      "31    The Weeknd, Ariana Grande                     pop          2020  \n"
     ]
    }
   ],
   "source": [
    "def recommend(song_name, n=5):\n",
    "    idx = df[df[\"track_name\"].str.lower() == song_name.lower()].index[0]\n",
    "    scores = list(enumerate(cos_sim[idx]))\n",
    "    scores = sorted(scores, key=lambda x: x[1], reverse=True)\n",
    "    top_indices = [i for i, _ in scores[1:n+1]]\n",
    "    return df.iloc[top_indices][[\"track_name\", \"artist_name\", \"artist_genres\", \"release_year\"]]\n",
    "\n",
    "# Beispiel\n",
    "print(recommend(\"Blinding Lights\", n=5))"
   ]
  }
 ],
 "metadata": {
  "kernelspec": {
   "display_name": ".venv",
   "language": "python",
   "name": "python3"
  },
  "language_info": {
   "codemirror_mode": {
    "name": "ipython",
    "version": 3
   },
   "file_extension": ".py",
   "mimetype": "text/x-python",
   "name": "python",
   "nbconvert_exporter": "python",
   "pygments_lexer": "ipython3",
   "version": "3.13.2"
  }
 },
 "nbformat": 4,
 "nbformat_minor": 5
}
